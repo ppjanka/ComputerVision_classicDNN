{
 "cells": [
  {
   "cell_type": "code",
   "execution_count": 2,
   "metadata": {},
   "outputs": [
    {
     "name": "stdout",
     "output_type": "stream",
     "text": [
      "Dataset extensions:  {'jpg', 'bmp', 'd=4', 'png', 'gif'}\n"
     ]
    }
   ],
   "source": [
    "import os\n",
    "import glob\n",
    "base_dir = os.getcwd()\n",
    "files = glob.glob(base_dir + '/data/cats/*') + glob.glob(base_dir + '/data/dogs/*')\n",
    "\n",
    "# extensions\n",
    "ext = []\n",
    "for file in files:\n",
    "    ext.append(file[-3:].lower())\n",
    "ext = set(ext)\n",
    "print(\"Dataset extensions: \", ext)"
   ]
  },
  {
   "cell_type": "code",
   "execution_count": 6,
   "metadata": {},
   "outputs": [
    {
     "name": "stderr",
     "output_type": "stream",
     "text": [
      "  5%|▍         | 104/2293 [00:00<00:06, 317.27it/s]"
     ]
    },
    {
     "name": "stdout",
     "output_type": "stream",
     "text": [
      "cannot identify image file '/DATA/Dropbox/LOOTRPV/Personal_programming/MachineLearning/Tutorials/ImageRecognition/data/cats/1149238616_tigercat02.jpg'\n"
     ]
    },
    {
     "name": "stderr",
     "output_type": "stream",
     "text": [
      " 13%|█▎        | 296/2293 [00:00<00:06, 314.74it/s]"
     ]
    },
    {
     "name": "stdout",
     "output_type": "stream",
     "text": [
      "cannot identify image file '/DATA/Dropbox/LOOTRPV/Personal_programming/MachineLearning/Tutorials/ImageRecognition/data/cats/ZierTigerCat.jpg'\n"
     ]
    },
    {
     "name": "stderr",
     "output_type": "stream",
     "text": [
      " 20%|██        | 465/2293 [00:01<00:05, 322.04it/s]"
     ]
    },
    {
     "name": "stdout",
     "output_type": "stream",
     "text": [
      "cannot identify image file '/DATA/Dropbox/LOOTRPV/Personal_programming/MachineLearning/Tutorials/ImageRecognition/data/cats/tiger.jpg'\n"
     ]
    },
    {
     "name": "stderr",
     "output_type": "stream",
     "text": [
      " 26%|██▌       | 598/2293 [00:01<00:05, 319.12it/s]"
     ]
    },
    {
     "name": "stdout",
     "output_type": "stream",
     "text": [
      "cannot identify image file '/DATA/Dropbox/LOOTRPV/Personal_programming/MachineLearning/Tutorials/ImageRecognition/data/cats/1149238639_tigercat06.jpg'\n"
     ]
    },
    {
     "name": "stderr",
     "output_type": "stream",
     "text": [
      " 35%|███▍      | 795/2293 [00:02<00:06, 249.28it/s]"
     ]
    },
    {
     "name": "stdout",
     "output_type": "stream",
     "text": [
      "cannot identify image file '/DATA/Dropbox/LOOTRPV/Personal_programming/MachineLearning/Tutorials/ImageRecognition/data/cats/ZierTigerCat2.jpg'\n"
     ]
    },
    {
     "name": "stderr",
     "output_type": "stream",
     "text": [
      " 43%|████▎     | 995/2293 [00:03<00:04, 305.55it/s]"
     ]
    },
    {
     "name": "stdout",
     "output_type": "stream",
     "text": [
      "tuple index out of range\n"
     ]
    },
    {
     "name": "stderr",
     "output_type": "stream",
     "text": [
      " 48%|████▊     | 1096/2293 [00:03<00:03, 321.95it/s]"
     ]
    },
    {
     "name": "stdout",
     "output_type": "stream",
     "text": [
      "cannot identify image file '/DATA/Dropbox/LOOTRPV/Personal_programming/MachineLearning/Tutorials/ImageRecognition/data/cats/Curious_Cat_Siberian_Tiger.jpg'\n"
     ]
    },
    {
     "name": "stderr",
     "output_type": "stream",
     "text": [
      " 54%|█████▍    | 1242/2293 [00:03<00:03, 347.81it/s]"
     ]
    },
    {
     "name": "stdout",
     "output_type": "stream",
     "text": [
      "cannot identify image file '/DATA/Dropbox/LOOTRPV/Personal_programming/MachineLearning/Tutorials/ImageRecognition/data/cats/c_ronald_ginger_cat_01.jpg'\n",
      "cannot identify image file '/DATA/Dropbox/LOOTRPV/Personal_programming/MachineLearning/Tutorials/ImageRecognition/data/cats/cat-thumb.JPG'\n"
     ]
    },
    {
     "name": "stderr",
     "output_type": "stream",
     "text": [
      " 59%|█████▉    | 1352/2293 [00:04<00:02, 354.91it/s]"
     ]
    },
    {
     "name": "stdout",
     "output_type": "stream",
     "text": [
      "cannot identify image file '/DATA/Dropbox/LOOTRPV/Personal_programming/MachineLearning/Tutorials/ImageRecognition/data/cats/tigercat.jpg'\n",
      "cannot identify image file '/DATA/Dropbox/LOOTRPV/Personal_programming/MachineLearning/Tutorials/ImageRecognition/data/cats/1149238672_tigercat11.jpg'\n",
      "cannot identify image file '/DATA/Dropbox/LOOTRPV/Personal_programming/MachineLearning/Tutorials/ImageRecognition/data/cats/cp11130.jpg'\n",
      "cannot identify image file '/DATA/Dropbox/LOOTRPV/Personal_programming/MachineLearning/Tutorials/ImageRecognition/data/dogs/friesland_031_2.jpg'\n",
      "tuple index out of range\n",
      "cannot identify image file '/DATA/Dropbox/LOOTRPV/Personal_programming/MachineLearning/Tutorials/ImageRecognition/data/dogs/hond_1.jpg'\n",
      "tuple index out of range\n",
      "cannot identify image file '/DATA/Dropbox/LOOTRPV/Personal_programming/MachineLearning/Tutorials/ImageRecognition/data/dogs/hond1.jpg'\n",
      "cannot identify image file '/DATA/Dropbox/LOOTRPV/Personal_programming/MachineLearning/Tutorials/ImageRecognition/data/dogs/8239_sml.jpg'\n",
      "cannot identify image file '/DATA/Dropbox/LOOTRPV/Personal_programming/MachineLearning/Tutorials/ImageRecognition/data/dogs/snoop-dog-pet-products-717770.jpg'\n",
      "cannot identify image file '/DATA/Dropbox/LOOTRPV/Personal_programming/MachineLearning/Tutorials/ImageRecognition/data/dogs/p.jpg'\n"
     ]
    },
    {
     "name": "stderr",
     "output_type": "stream",
     "text": [
      " 63%|██████▎   | 1438/2293 [00:04<00:02, 381.87it/s]"
     ]
    },
    {
     "name": "stdout",
     "output_type": "stream",
     "text": [
      "cannot identify image file '/DATA/Dropbox/LOOTRPV/Personal_programming/MachineLearning/Tutorials/ImageRecognition/data/dogs/male-dingo-canis-familiaris-dingo-victoria-australia-~-g10-271177.jpg'\n",
      "cannot identify image file '/DATA/Dropbox/LOOTRPV/Personal_programming/MachineLearning/Tutorials/ImageRecognition/data/dogs/狗狗屏保[大牛]4.GIF'\n",
      "cannot identify image file '/DATA/Dropbox/LOOTRPV/Personal_programming/MachineLearning/Tutorials/ImageRecognition/data/dogs/bobtail-antiguo-perro-de-pastor-ingles_2.jpg'\n",
      "cannot identify image file '/DATA/Dropbox/LOOTRPV/Personal_programming/MachineLearning/Tutorials/ImageRecognition/data/dogs/cane3.JPG'\n",
      "cannot identify image file '/DATA/Dropbox/LOOTRPV/Personal_programming/MachineLearning/Tutorials/ImageRecognition/data/dogs/hond-kussen.jpg'\n",
      "cannot identify image file '/DATA/Dropbox/LOOTRPV/Personal_programming/MachineLearning/Tutorials/ImageRecognition/data/dogs/kindvriendelijk.jpg'\n",
      "cannot identify image file '/DATA/Dropbox/LOOTRPV/Personal_programming/MachineLearning/Tutorials/ImageRecognition/data/dogs/bernard_hond.jpg'\n",
      "cannot identify image file '/DATA/Dropbox/LOOTRPV/Personal_programming/MachineLearning/Tutorials/ImageRecognition/data/dogs/WorldDogShow.jpg'\n",
      "cannot identify image file '/DATA/Dropbox/LOOTRPV/Personal_programming/MachineLearning/Tutorials/ImageRecognition/data/dogs/comfort omheining kleine hond.jpg'\n"
     ]
    },
    {
     "name": "stderr",
     "output_type": "stream",
     "text": [
      " 66%|██████▌   | 1517/2293 [00:04<00:02, 364.70it/s]"
     ]
    },
    {
     "name": "stdout",
     "output_type": "stream",
     "text": [
      "cannot identify image file '/DATA/Dropbox/LOOTRPV/Personal_programming/MachineLearning/Tutorials/ImageRecognition/data/dogs/hond.jpg'\n",
      "cannot identify image file '/DATA/Dropbox/LOOTRPV/Personal_programming/MachineLearning/Tutorials/ImageRecognition/data/dogs/m_dog.jpg'\n",
      "cannot identify image file '/DATA/Dropbox/LOOTRPV/Personal_programming/MachineLearning/Tutorials/ImageRecognition/data/dogs/welke_hond.jpg'\n",
      "cannot identify image file '/DATA/Dropbox/LOOTRPV/Personal_programming/MachineLearning/Tutorials/ImageRecognition/data/dogs/ngc-dogwhisperer1.jpg'\n",
      "cannot identify image file '/DATA/Dropbox/LOOTRPV/Personal_programming/MachineLearning/Tutorials/ImageRecognition/data/dogs/200125591-001.jpg'\n",
      "cannot identify image file '/DATA/Dropbox/LOOTRPV/Personal_programming/MachineLearning/Tutorials/ImageRecognition/data/dogs/AustralianCattleDog-.jpg'\n"
     ]
    },
    {
     "name": "stderr",
     "output_type": "stream",
     "text": [
      " 71%|███████▏  | 1637/2293 [00:04<00:01, 382.88it/s]"
     ]
    },
    {
     "name": "stdout",
     "output_type": "stream",
     "text": [
      "cannot identify image file '/DATA/Dropbox/LOOTRPV/Personal_programming/MachineLearning/Tutorials/ImageRecognition/data/dogs/t364.jpg'\n",
      "cannot identify image file '/DATA/Dropbox/LOOTRPV/Personal_programming/MachineLearning/Tutorials/ImageRecognition/data/dogs/Dog_Strollers-Pic.jpg'\n",
      "cannot identify image file '/DATA/Dropbox/LOOTRPV/Personal_programming/MachineLearning/Tutorials/ImageRecognition/data/dogs/measdogA-sharp02.jpg'\n",
      "cannot identify image file '/DATA/Dropbox/LOOTRPV/Personal_programming/MachineLearning/Tutorials/ImageRecognition/data/dogs/a_Doberman_dog.jpg'\n",
      "cannot identify image file '/DATA/Dropbox/LOOTRPV/Personal_programming/MachineLearning/Tutorials/ImageRecognition/data/dogs/ugly_dog_perro_feo_4.jpg'\n",
      "cannot identify image file '/DATA/Dropbox/LOOTRPV/Personal_programming/MachineLearning/Tutorials/ImageRecognition/data/dogs/Foto Clinton 02.JPG'\n",
      "cannot identify image file '/DATA/Dropbox/LOOTRPV/Personal_programming/MachineLearning/Tutorials/ImageRecognition/data/dogs/floris-300-px.jpg'\n",
      "cannot identify image file '/DATA/Dropbox/LOOTRPV/Personal_programming/MachineLearning/Tutorials/ImageRecognition/data/dogs/sniffles_dog.jpg'\n",
      "cannot identify image file '/DATA/Dropbox/LOOTRPV/Personal_programming/MachineLearning/Tutorials/ImageRecognition/data/dogs/gevaarlijke hond.jpg'\n",
      "cannot identify image file '/DATA/Dropbox/LOOTRPV/Personal_programming/MachineLearning/Tutorials/ImageRecognition/data/dogs/hond2.jpg'\n",
      "cannot identify image file '/DATA/Dropbox/LOOTRPV/Personal_programming/MachineLearning/Tutorials/ImageRecognition/data/dogs/ziggy_de_hond_2.JPG'\n",
      "cannot identify image file '/DATA/Dropbox/LOOTRPV/Personal_programming/MachineLearning/Tutorials/ImageRecognition/data/dogs/11556862171.jpg'\n"
     ]
    },
    {
     "name": "stderr",
     "output_type": "stream",
     "text": [
      " 75%|███████▌  | 1731/2293 [00:05<00:01, 420.68it/s]"
     ]
    },
    {
     "name": "stdout",
     "output_type": "stream",
     "text": [
      "cannot identify image file '/DATA/Dropbox/LOOTRPV/Personal_programming/MachineLearning/Tutorials/ImageRecognition/data/dogs/Como-el-perro-y-el-gato.jpg'\n",
      "cannot identify image file '/DATA/Dropbox/LOOTRPV/Personal_programming/MachineLearning/Tutorials/ImageRecognition/data/dogs/Frontline Combo Hond S zwart.jpg'\n",
      "cannot identify image file '/DATA/Dropbox/LOOTRPV/Personal_programming/MachineLearning/Tutorials/ImageRecognition/data/dogs/070405_mini_mutts_vlrg_12p.hmedium.jpg'\n",
      "cannot identify image file '/DATA/Dropbox/LOOTRPV/Personal_programming/MachineLearning/Tutorials/ImageRecognition/data/dogs/ugly_dog_perro_feo_2.jpg'\n",
      "cannot identify image file '/DATA/Dropbox/LOOTRPV/Personal_programming/MachineLearning/Tutorials/ImageRecognition/data/dogs/Mij hond met coke snor.jpg'\n",
      "cannot identify image file '/DATA/Dropbox/LOOTRPV/Personal_programming/MachineLearning/Tutorials/ImageRecognition/data/dogs/gekke-hond.jpg'\n",
      "cannot identify image file '/DATA/Dropbox/LOOTRPV/Personal_programming/MachineLearning/Tutorials/ImageRecognition/data/dogs/2EZ_speuren-verwijzen-voorwerp.jpg'\n",
      "cannot identify image file '/DATA/Dropbox/LOOTRPV/Personal_programming/MachineLearning/Tutorials/ImageRecognition/data/dogs/t492.jpg'\n",
      "cannot identify image file '/DATA/Dropbox/LOOTRPV/Personal_programming/MachineLearning/Tutorials/ImageRecognition/data/dogs/dog.jpg'\n",
      "cannot identify image file '/DATA/Dropbox/LOOTRPV/Personal_programming/MachineLearning/Tutorials/ImageRecognition/data/dogs/maten_hond_001.jpg'\n",
      "cannot identify image file '/DATA/Dropbox/LOOTRPV/Personal_programming/MachineLearning/Tutorials/ImageRecognition/data/dogs/11547849131.jpg'\n"
     ]
    },
    {
     "name": "stderr",
     "output_type": "stream",
     "text": [
      " 79%|███████▉  | 1816/2293 [00:05<00:01, 400.85it/s]"
     ]
    },
    {
     "name": "stdout",
     "output_type": "stream",
     "text": [
      "cannot identify image file '/DATA/Dropbox/LOOTRPV/Personal_programming/MachineLearning/Tutorials/ImageRecognition/data/dogs/El_perro_del_malecon_principal.jpg'\n",
      "cannot identify image file '/DATA/Dropbox/LOOTRPV/Personal_programming/MachineLearning/Tutorials/ImageRecognition/data/dogs/ziggy_de_hond_3.JPG'\n",
      "cannot identify image file '/DATA/Dropbox/LOOTRPV/Personal_programming/MachineLearning/Tutorials/ImageRecognition/data/dogs/hercules-el-perro-mas-grande-del-mundo.jpg'\n",
      "cannot identify image file '/DATA/Dropbox/LOOTRPV/Personal_programming/MachineLearning/Tutorials/ImageRecognition/data/dogs/newPic_9853_jpg_212210a.jpg'\n",
      "cannot identify image file '/DATA/Dropbox/LOOTRPV/Personal_programming/MachineLearning/Tutorials/ImageRecognition/data/dogs/t114.jpg'\n",
      "tuple index out of range\n"
     ]
    },
    {
     "name": "stderr",
     "output_type": "stream",
     "text": [
      " 83%|████████▎ | 1898/2293 [00:05<00:00, 396.90it/s]"
     ]
    },
    {
     "name": "stdout",
     "output_type": "stream",
     "text": [
      "cannot identify image file '/DATA/Dropbox/LOOTRPV/Personal_programming/MachineLearning/Tutorials/ImageRecognition/data/dogs/vader_met_paard_en_hond.JPG'\n",
      "cannot identify image file '/DATA/Dropbox/LOOTRPV/Personal_programming/MachineLearning/Tutorials/ImageRecognition/data/dogs/t144.jpg'\n",
      "cannot identify image file '/DATA/Dropbox/LOOTRPV/Personal_programming/MachineLearning/Tutorials/ImageRecognition/data/dogs/hond_waterhoen.jpg'\n",
      "cannot identify image file '/DATA/Dropbox/LOOTRPV/Personal_programming/MachineLearning/Tutorials/ImageRecognition/data/dogs/43535435.JPG'\n",
      "cannot identify image file '/DATA/Dropbox/LOOTRPV/Personal_programming/MachineLearning/Tutorials/ImageRecognition/data/dogs/basenji.jpg'\n"
     ]
    },
    {
     "name": "stderr",
     "output_type": "stream",
     "text": [
      " 86%|████████▋ | 1979/2293 [00:05<00:00, 366.87it/s]"
     ]
    },
    {
     "name": "stdout",
     "output_type": "stream",
     "text": [
      "cannot identify image file '/DATA/Dropbox/LOOTRPV/Personal_programming/MachineLearning/Tutorials/ImageRecognition/data/dogs/SW-PerroAbandonado.jpg'\n",
      "cannot identify image file '/DATA/Dropbox/LOOTRPV/Personal_programming/MachineLearning/Tutorials/ImageRecognition/data/dogs/Toean.jpg'\n",
      "cannot identify image file '/DATA/Dropbox/LOOTRPV/Personal_programming/MachineLearning/Tutorials/ImageRecognition/data/dogs/ElPerroDelMar-Portratt.jpg'\n",
      "cannot identify image file '/DATA/Dropbox/LOOTRPV/Personal_programming/MachineLearning/Tutorials/ImageRecognition/data/dogs/11557694831.jpg'\n",
      "cannot identify image file '/DATA/Dropbox/LOOTRPV/Personal_programming/MachineLearning/Tutorials/ImageRecognition/data/dogs/dakota.jpg'\n",
      "cannot identify image file '/DATA/Dropbox/LOOTRPV/Personal_programming/MachineLearning/Tutorials/ImageRecognition/data/dogs/t_hond.jpg'\n",
      "cannot identify image file '/DATA/Dropbox/LOOTRPV/Personal_programming/MachineLearning/Tutorials/ImageRecognition/data/dogs/10744-groot.jpg'\n"
     ]
    },
    {
     "name": "stderr",
     "output_type": "stream",
     "text": [
      " 90%|████████▉ | 2059/2293 [00:06<00:00, 379.08it/s]"
     ]
    },
    {
     "name": "stdout",
     "output_type": "stream",
     "text": [
      "cannot identify image file '/DATA/Dropbox/LOOTRPV/Personal_programming/MachineLearning/Tutorials/ImageRecognition/data/dogs/22-11-05_perro-cerveza.jpg'\n",
      "cannot identify image file '/DATA/Dropbox/LOOTRPV/Personal_programming/MachineLearning/Tutorials/ImageRecognition/data/dogs/Frontline Combo Hond L zwart.jpg'\n",
      "cannot identify image file '/DATA/Dropbox/LOOTRPV/Personal_programming/MachineLearning/Tutorials/ImageRecognition/data/dogs/perro-ikea.jpg'\n",
      "cannot identify image file '/DATA/Dropbox/LOOTRPV/Personal_programming/MachineLearning/Tutorials/ImageRecognition/data/dogs/Ovejero Magallanico.JPG'\n",
      "cannot identify image file '/DATA/Dropbox/LOOTRPV/Personal_programming/MachineLearning/Tutorials/ImageRecognition/data/dogs/GreatDane-.jpg'\n",
      "cannot identify image file '/DATA/Dropbox/LOOTRPV/Personal_programming/MachineLearning/Tutorials/ImageRecognition/data/dogs/mijn hond.jpg'\n",
      "cannot identify image file '/DATA/Dropbox/LOOTRPV/Personal_programming/MachineLearning/Tutorials/ImageRecognition/data/dogs/t382.jpg'\n",
      "cannot identify image file '/DATA/Dropbox/LOOTRPV/Personal_programming/MachineLearning/Tutorials/ImageRecognition/data/dogs/Etende_hond.jpg'\n"
     ]
    },
    {
     "name": "stderr",
     "output_type": "stream",
     "text": [
      " 93%|█████████▎| 2136/2293 [00:06<00:00, 363.83it/s]"
     ]
    },
    {
     "name": "stdout",
     "output_type": "stream",
     "text": [
      "cannot identify image file '/DATA/Dropbox/LOOTRPV/Personal_programming/MachineLearning/Tutorials/ImageRecognition/data/dogs/Perro1.jpg'\n",
      "cannot identify image file '/DATA/Dropbox/LOOTRPV/Personal_programming/MachineLearning/Tutorials/ImageRecognition/data/dogs/sleepy2.jpg'\n"
     ]
    },
    {
     "name": "stderr",
     "output_type": "stream",
     "text": [
      " 98%|█████████▊| 2249/2293 [00:06<00:00, 365.14it/s]"
     ]
    },
    {
     "name": "stdout",
     "output_type": "stream",
     "text": [
      "cannot identify image file '/DATA/Dropbox/LOOTRPV/Personal_programming/MachineLearning/Tutorials/ImageRecognition/data/dogs/32El-hombre-y-su-perro.jpg'\n",
      "tuple index out of range\n",
      "cannot identify image file '/DATA/Dropbox/LOOTRPV/Personal_programming/MachineLearning/Tutorials/ImageRecognition/data/dogs/t294.jpg'\n",
      "cannot identify image file '/DATA/Dropbox/LOOTRPV/Personal_programming/MachineLearning/Tutorials/ImageRecognition/data/dogs/first-dog.gif'\n",
      "cannot identify image file '/DATA/Dropbox/LOOTRPV/Personal_programming/MachineLearning/Tutorials/ImageRecognition/data/dogs/afval_hond_nieuw_leiband.jpg'\n",
      "cannot identify image file '/DATA/Dropbox/LOOTRPV/Personal_programming/MachineLearning/Tutorials/ImageRecognition/data/dogs/nino-vagon-perro-~-os36024.jpg'\n"
     ]
    },
    {
     "name": "stderr",
     "output_type": "stream",
     "text": [
      "100%|██████████| 2293/2293 [00:06<00:00, 342.89it/s]"
     ]
    },
    {
     "name": "stdout",
     "output_type": "stream",
     "text": [
      "cannot identify image file '/DATA/Dropbox/LOOTRPV/Personal_programming/MachineLearning/Tutorials/ImageRecognition/data/dogs/man_met_hond.jpg'\n",
      "cannot identify image file '/DATA/Dropbox/LOOTRPV/Personal_programming/MachineLearning/Tutorials/ImageRecognition/data/dogs/Strand Kika + gekke hond ha ha.jpg'\n"
     ]
    },
    {
     "name": "stderr",
     "output_type": "stream",
     "text": [
      "\n"
     ]
    }
   ],
   "source": [
    "# image sizes\n",
    "import numpy as np\n",
    "import matplotlib.pyplot as plt\n",
    "from tqdm import tqdm\n",
    "\n",
    "widths = []\n",
    "heights = []\n",
    "for file in tqdm(files):\n",
    "    try:\n",
    "        img = plt.imread(file)\n",
    "        widths.append(img.shape[0])\n",
    "        heights.append(img.shape[1])\n",
    "    except Exception as e:\n",
    "        print(e)\n",
    "widths = np.array(widths)\n",
    "heights = np.array(heights)"
   ]
  },
  {
   "cell_type": "code",
   "execution_count": 19,
   "metadata": {},
   "outputs": [
    {
     "data": {
      "image/png": "[encoded data removed]",
      "text/plain": [
       "<Figure size 432x288 with 2 Axes>"
      ]
     },
     "metadata": {},
     "output_type": "display_data"
    }
   ],
   "source": [
    "plt.clf()\n",
    "plt.subplot(121)\n",
    "plt.hist(heights,bins=50, label='height')\n",
    "plt.hist(widths, bins=50, label='width')\n",
    "plt.xlim(0.,1000.)\n",
    "plt.grid()\n",
    "plt.legend()\n",
    "plt.subplot(122)\n",
    "plt.hist(widths/heights,bins=50, label='aspect_ratio')\n",
    "plt.yscale('log')\n",
    "plt.xlim(0.,2.)\n",
    "plt.grid()\n",
    "plt.legend()\n",
    "plt.show()\n",
    "plt.close()"
   ]
  },
  {
   "cell_type": "markdown",
   "metadata": {},
   "source": [
    "It seems that the best shape to aim at for the NN is 256x256 or lower"
   ]
  },
  {
   "cell_type": "code",
   "execution_count": null,
   "metadata": {},
   "outputs": [],
   "source": []
  }
 ],
 "metadata": {
  "kernelspec": {
   "display_name": "Python 3",
   "language": "python",
   "name": "python3"
  },
  "language_info": {
   "codemirror_mode": {
    "name": "ipython",
    "version": 3
   },
   "file_extension": ".py",
   "mimetype": "text/x-python",
   "name": "python",
   "nbconvert_exporter": "python",
   "pygments_lexer": "ipython3",
   "version": "3.6.3"
  }
 },
 "nbformat": 4,
 "nbformat_minor": 2
}
